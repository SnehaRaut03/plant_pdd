{
 "cells": [
  {
   "cell_type": "code",
   "execution_count": 2,
   "id": "7314add2-f7bc-4a4d-b75a-07d4f45d2f04",
   "metadata": {},
   "outputs": [],
   "source": [
    "import tensorflow as tf\n",
    "import matplotlib.pyplot as plt\n",
    "import seaborn as sns\n",
    "import pandas as pd\n",
    "import numpy as np\n",
    "import pandas as pd\n",
    "import matplotlib.pyplot as plt\n",
    "from matplotlib.image import imread\n",
    "import random\n",
    "import os\n",
    "from os import listdir\n",
    "from PIL import Image\n",
    "import tensorflow as tf\n",
    "from keras.preprocessing import image\n",
    "from tensorflow. keras.utils import img_to_array, array_to_img\n",
    "from PIL import Image\n"
   ]
  },
  {
   "cell_type": "code",
   "execution_count": 3,
   "id": "c6368e3b-088f-406b-9fd9-5ce8fb385770",
   "metadata": {},
   "outputs": [
    {
     "name": "stdout",
     "output_type": "stream",
     "text": [
      "TensorFlow version: 2.18.0\n",
      "Num GPUs Available: 1\n"
     ]
    }
   ],
   "source": [
    "print(\"TensorFlow version:\", tf.__version__)\n",
    "print(\"Num GPUs Available:\", len(tf.config.list_physical_devices('GPU')))"
   ]
  },
  {
   "cell_type": "code",
   "execution_count": 4,
   "id": "498eaa35-ee66-4f9b-b50a-878c00054151",
   "metadata": {},
   "outputs": [
    {
     "name": "stdout",
     "output_type": "stream",
     "text": [
      "[PhysicalDevice(name='/physical_device:GPU:0', device_type='GPU')]\n"
     ]
    }
   ],
   "source": [
    "import tensorflow as tf\n",
    "print(tf.config.list_physical_devices('GPU'))"
   ]
  },
  {
   "cell_type": "code",
   "execution_count": 5,
   "id": "d7e56f78-0d43-4578-977a-a85b0e9b75e5",
   "metadata": {},
   "outputs": [
    {
     "name": "stdout",
     "output_type": "stream",
     "text": [
      "Found 76764 files belonging to 39 classes.\n"
     ]
    },
    {
     "name": "stderr",
     "output_type": "stream",
     "text": [
      "2025-03-02 19:02:09.245154: I metal_plugin/src/device/metal_device.cc:1154] Metal device set to: Apple M2\n",
      "2025-03-02 19:02:09.245340: I metal_plugin/src/device/metal_device.cc:296] systemMemory: 8.00 GB\n",
      "2025-03-02 19:02:09.245346: I metal_plugin/src/device/metal_device.cc:313] maxCacheSize: 2.67 GB\n",
      "WARNING: All log messages before absl::InitializeLog() is called are written to STDERR\n",
      "I0000 00:00:1740921429.245705 14000643 pluggable_device_factory.cc:305] Could not identify NUMA node of platform GPU ID 0, defaulting to 0. Your kernel may not have been built with NUMA support.\n",
      "I0000 00:00:1740921429.245903 14000643 pluggable_device_factory.cc:271] Created TensorFlow device (/job:localhost/replica:0/task:0/device:GPU:0 with 0 MB memory) -> physical PluggableDevice (device: 0, name: METAL, pci bus id: <undefined>)\n"
     ]
    }
   ],
   "source": [
    "training_set = tf.keras.utils.image_dataset_from_directory(\n",
    "    'train',\n",
    "    labels=\"inferred\",\n",
    "    label_mode=\"categorical\",\n",
    "    class_names=None,\n",
    "    color_mode=\"rgb\",\n",
    "    batch_size=32,\n",
    "    image_size=(128, 128),\n",
    "    shuffle=True,\n",
    "    seed=None,\n",
    "    validation_split=None,\n",
    "    subset=None,\n",
    "    interpolation=\"bilinear\",\n",
    "    follow_links=False,\n",
    "    crop_to_aspect_ratio=False,\n",
    ")"
   ]
  },
  {
   "cell_type": "code",
   "execution_count": 6,
   "id": "f0d486af-e1ce-4eae-92b7-8782bde77665",
   "metadata": {},
   "outputs": [
    {
     "data": {
      "text/plain": [
       "<_PrefetchDataset element_spec=(TensorSpec(shape=(None, 128, 128, 3), dtype=tf.float32, name=None), TensorSpec(shape=(None, 39), dtype=tf.float32, name=None))>"
      ]
     },
     "execution_count": 6,
     "metadata": {},
     "output_type": "execute_result"
    }
   ],
   "source": [
    "training_set"
   ]
  },
  {
   "cell_type": "code",
   "execution_count": 7,
   "id": "d1808ddf-2fd3-4d36-943f-7409b820b420",
   "metadata": {},
   "outputs": [
    {
     "name": "stdout",
     "output_type": "stream",
     "text": [
      "Found 24041 files belonging to 39 classes.\n"
     ]
    }
   ],
   "source": [
    "validation_set = tf.keras.utils.image_dataset_from_directory(\n",
    "    'valid',\n",
    "    labels=\"inferred\",\n",
    "    label_mode=\"categorical\",\n",
    "    class_names=None,\n",
    "    color_mode=\"rgb\",\n",
    "    batch_size=32,\n",
    "    image_size=(128, 128),\n",
    "    shuffle=True,\n",
    "    seed=None,\n",
    "    validation_split=None,\n",
    "    subset=None,\n",
    "    interpolation=\"bilinear\",\n",
    "    follow_links=False,\n",
    "    crop_to_aspect_ratio=False,\n",
    ")"
   ]
  },
  {
   "cell_type": "code",
   "execution_count": 8,
   "id": "e4fdf1ad-4c4d-482f-a5e3-5a95746ce5d5",
   "metadata": {},
   "outputs": [],
   "source": [
    "from tensorflow.keras.utils import to_categorical\n",
    "\n",
    "y_train = training_set.map(lambda x, y: y)  # Extract only the labels\n",
    "y_train = y_train.map(lambda y: to_categorical(y, num_classes=38))  # One-hot encode the labels\n",
    "\n",
    "# For validation set, since it's already one-hot encoded, no need for one-hot encoding\n",
    "y_val = validation_set.map(lambda x, y: y)\n"
   ]
  },
  {
   "cell_type": "code",
   "execution_count": 9,
   "id": "ea36145b-f780-4778-b333-55f110ac1488",
   "metadata": {},
   "outputs": [
    {
     "name": "stdout",
     "output_type": "stream",
     "text": [
      "tf.Tensor(\n",
      "[[[[126.25      108.25      108.25     ]\n",
      "   [132.25      114.25      114.25     ]\n",
      "   [134.5       116.5       116.5      ]\n",
      "   ...\n",
      "   [159.75      148.75      146.75     ]\n",
      "   [162.25      151.25      149.25     ]\n",
      "   [165.75      154.75      152.75     ]]\n",
      "\n",
      "  [[133.        115.        115.       ]\n",
      "   [123.25      105.25      105.25     ]\n",
      "   [115.75       97.75       97.75     ]\n",
      "   ...\n",
      "   [155.5       144.5       142.5      ]\n",
      "   [158.75      147.75      145.75     ]\n",
      "   [163.75      152.75      150.75     ]]\n",
      "\n",
      "  [[121.5       103.5       103.5      ]\n",
      "   [121.        103.        103.       ]\n",
      "   [132.        114.        114.       ]\n",
      "   ...\n",
      "   [159.25      148.25      146.25     ]\n",
      "   [155.        144.        142.       ]\n",
      "   [157.75      146.75      144.75     ]]\n",
      "\n",
      "  ...\n",
      "\n",
      "  [[149.75      138.75      144.75     ]\n",
      "   [143.75      132.75      138.75     ]\n",
      "   [141.5       130.5       136.5      ]\n",
      "   ...\n",
      "   [188.75      179.75      182.75     ]\n",
      "   [193.75      184.75      187.75     ]\n",
      "   [198.25      189.25      192.25     ]]\n",
      "\n",
      "  [[142.25      131.25      137.25     ]\n",
      "   [134.5       123.5       129.5      ]\n",
      "   [138.        127.        133.       ]\n",
      "   ...\n",
      "   [189.        180.        183.       ]\n",
      "   [197.        188.        191.       ]\n",
      "   [196.        187.        190.       ]]\n",
      "\n",
      "  [[146.5       135.5       141.5      ]\n",
      "   [140.25      129.25      135.25     ]\n",
      "   [154.5       143.5       149.5      ]\n",
      "   ...\n",
      "   [193.25      184.25      187.25     ]\n",
      "   [196.5       187.5       190.5      ]\n",
      "   [186.        177.        180.       ]]]\n",
      "\n",
      "\n",
      " [[[ 95.         87.75       86.75     ]\n",
      "   [ 94.         87.         86.       ]\n",
      "   [ 94.75       87.75       86.75     ]\n",
      "   ...\n",
      "   [ 92.5        85.         83.75     ]\n",
      "   [ 85.         77.5        76.       ]\n",
      "   [ 87.         79.5        78.25     ]]\n",
      "\n",
      "  [[181.        173.        171.       ]\n",
      "   [181.5       173.5       171.5      ]\n",
      "   [183.75      175.75      173.75     ]\n",
      "   ...\n",
      "   [171.        163.        161.       ]\n",
      "   [165.5       157.5       155.5      ]\n",
      "   [166.25      158.25      156.25     ]]\n",
      "\n",
      "  [[184.5       176.5       174.5      ]\n",
      "   [185.        177.        175.       ]\n",
      "   [184.75      176.75      174.75     ]\n",
      "   ...\n",
      "   [165.75      157.75      155.75     ]\n",
      "   [163.75      155.75      153.75     ]\n",
      "   [164.        156.        154.       ]]\n",
      "\n",
      "  ...\n",
      "\n",
      "  [[177.25      167.25      165.25     ]\n",
      "   [177.75      167.75      165.75     ]\n",
      "   [178.75      168.75      166.75     ]\n",
      "   ...\n",
      "   [154.        144.        142.       ]\n",
      "   [157.25      147.25      145.25     ]\n",
      "   [157.        147.        145.       ]]\n",
      "\n",
      "  [[173.5       163.5       161.5      ]\n",
      "   [175.25      165.25      163.25     ]\n",
      "   [172.75      162.75      160.75     ]\n",
      "   ...\n",
      "   [153.25      143.25      141.25     ]\n",
      "   [150.5       140.5       138.5      ]\n",
      "   [154.25      144.25      142.25     ]]\n",
      "\n",
      "  [[167.75      157.75      155.75     ]\n",
      "   [175.5       165.5       163.5      ]\n",
      "   [172.25      162.25      160.25     ]\n",
      "   ...\n",
      "   [162.        152.        150.       ]\n",
      "   [151.5       141.5       139.5      ]\n",
      "   [155.25      145.25      143.25     ]]]\n",
      "\n",
      "\n",
      " [[[165.        147.        160.5      ]\n",
      "   [167.75      150.25      161.25     ]\n",
      "   [170.25      153.25      161.25     ]\n",
      "   ...\n",
      "   [169.5       155.5       152.5      ]\n",
      "   [167.75      153.75      150.75     ]\n",
      "   [162.5       148.5       145.5      ]]\n",
      "\n",
      "  [[171.25      154.75      157.75     ]\n",
      "   [170.75      154.75      156.25     ]\n",
      "   [165.25      149.75      149.25     ]\n",
      "   ...\n",
      "   [173.25      159.25      156.25     ]\n",
      "   [171.        157.        154.       ]\n",
      "   [170.5       156.5       153.5      ]]\n",
      "\n",
      "  [[170.        157.        148.5      ]\n",
      "   [171.5       158.5       150.25     ]\n",
      "   [166.        153.        146.5      ]\n",
      "   ...\n",
      "   [180.        166.        163.       ]\n",
      "   [176.5       162.5       159.5      ]\n",
      "   [166.25      152.25      149.25     ]]\n",
      "\n",
      "  ...\n",
      "\n",
      "  [[152.5       140.5       144.5      ]\n",
      "   [166.25      154.25      158.25     ]\n",
      "   [155.75      143.75      147.75     ]\n",
      "   ...\n",
      "   [165.25      147.25      145.25     ]\n",
      "   [162.25      144.25      142.25     ]\n",
      "   [166.75      148.75      146.75     ]]\n",
      "\n",
      "  [[154.5       142.5       146.5      ]\n",
      "   [154.5       142.5       146.5      ]\n",
      "   [158.75      146.75      150.75     ]\n",
      "   ...\n",
      "   [177.75      159.75      157.75     ]\n",
      "   [167.5       149.5       147.5      ]\n",
      "   [172.25      154.25      152.25     ]]\n",
      "\n",
      "  [[160.75      148.75      152.75     ]\n",
      "   [151.75      139.75      143.75     ]\n",
      "   [152.75      140.75      144.75     ]\n",
      "   ...\n",
      "   [158.75      140.75      138.75     ]\n",
      "   [175.        157.        155.       ]\n",
      "   [160.5       142.5       140.5      ]]]\n",
      "\n",
      "\n",
      " ...\n",
      "\n",
      "\n",
      " [[[163.75      154.75      159.75     ]\n",
      "   [159.        150.        155.       ]\n",
      "   [140.75      131.75      136.75     ]\n",
      "   ...\n",
      "   [118.25      106.25      110.25     ]\n",
      "   [123.        111.        115.       ]\n",
      "   [113.5       101.5       105.5      ]]\n",
      "\n",
      "  [[155.5       146.5       151.5      ]\n",
      "   [152.5       143.5       148.5      ]\n",
      "   [135.25      126.25      131.25     ]\n",
      "   ...\n",
      "   [137.5       125.5       129.5      ]\n",
      "   [111.75       99.75      103.75     ]\n",
      "   [115.75      103.75      107.75     ]]\n",
      "\n",
      "  [[156.25      147.25      152.25     ]\n",
      "   [148.5       139.5       144.5      ]\n",
      "   [148.5       139.5       144.5      ]\n",
      "   ...\n",
      "   [119.        107.        111.       ]\n",
      "   [114.75      102.75      106.75     ]\n",
      "   [113.        101.        105.       ]]\n",
      "\n",
      "  ...\n",
      "\n",
      "  [[147.75      136.75      140.75     ]\n",
      "   [154.25      143.25      147.25     ]\n",
      "   [141.75      130.75      134.75     ]\n",
      "   ...\n",
      "   [127.25      115.25      115.25     ]\n",
      "   [119.5       107.5       107.5      ]\n",
      "   [118.25      106.25      106.25     ]]\n",
      "\n",
      "  [[148.25      137.25      141.25     ]\n",
      "   [142.5       131.5       135.5      ]\n",
      "   [149.25      138.25      142.25     ]\n",
      "   ...\n",
      "   [111.75       99.75       99.75     ]\n",
      "   [115.25      103.25      103.25     ]\n",
      "   [120.5       108.5       108.5      ]]\n",
      "\n",
      "  [[148.25      137.25      141.25     ]\n",
      "   [146.75      135.75      139.75     ]\n",
      "   [159.5       148.5       152.5      ]\n",
      "   ...\n",
      "   [130.5       118.5       118.5      ]\n",
      "   [118.        106.        106.       ]\n",
      "   [124.5       112.5       112.5      ]]]\n",
      "\n",
      "\n",
      " [[[ 12.         19.         29.       ]\n",
      "   [ 12.4375     19.4375     29.4375   ]\n",
      "   [ 13.0625     20.         30.125    ]\n",
      "   ...\n",
      "   [ 23.9375     43.        102.       ]\n",
      "   [ 23.4375     42.4375    101.4375   ]\n",
      "   [ 23.         42.        101.       ]]\n",
      "\n",
      "  [[ 12.203125   19.         29.40625  ]\n",
      "   [ 12.551758   19.348633   29.754883 ]\n",
      "   [ 13.0625     19.80957    30.34082  ]\n",
      "   ...\n",
      "   [ 24.34375    43.62207   102.634766 ]\n",
      "   [ 23.84375    43.046875  102.046875 ]\n",
      "   [ 23.40625    42.609375  101.609375 ]]\n",
      "\n",
      "  [[ 12.671875   19.         30.34375  ]\n",
      "   [ 12.81543    19.143555   30.487305 ]\n",
      "   [ 13.0625     19.370117   30.838867 ]\n",
      "   ...\n",
      "   [ 25.28125    45.057617  104.09961  ]\n",
      "   [ 24.78125    44.453125  103.453125 ]\n",
      "   [ 24.34375    44.015625  103.015625 ]]\n",
      "\n",
      "  ...\n",
      "\n",
      "  [[  1.671875    3.          3.359375 ]\n",
      "   [  3.5722656   4.9003906   6.1347656]\n",
      "   [  6.765625    8.302734   10.620117 ]\n",
      "   ...\n",
      "   [152.73145   152.85645   165.04395  ]\n",
      "   [158.04688   158.04688   170.04688  ]\n",
      "   [162.42188   162.42188   174.42188  ]]\n",
      "\n",
      "  [[  1.203125    3.          1.015625 ]\n",
      "   [  2.6933594   4.4902344   3.3808594]\n",
      "   [  5.359375    7.3066406   7.3095703]\n",
      "   ...\n",
      "   [145.02637   145.15137   157.33887  ]\n",
      "   [150.07812   150.07812   162.07812  ]\n",
      "   [154.45312   154.45312   166.45312  ]]\n",
      "\n",
      "  [[  1.          3.          0.       ]\n",
      "   [  2.3125      4.3125      2.1875   ]\n",
      "   [  4.75        6.875       5.875    ]\n",
      "   ...\n",
      "   [141.6875    141.8125    154.       ]\n",
      "   [146.625     146.625     158.625    ]\n",
      "   [151.        151.        163.       ]]]\n",
      "\n",
      "\n",
      " [[[116.        108.        132.       ]\n",
      "   [116.        108.        132.       ]\n",
      "   [114.75      106.75      130.75     ]\n",
      "   ...\n",
      "   [129.75      121.75      145.75     ]\n",
      "   [126.75      118.75      142.75     ]\n",
      "   [129.25      121.25      145.25     ]]\n",
      "\n",
      "  [[118.        110.        134.       ]\n",
      "   [114.5       106.5       130.5      ]\n",
      "   [114.25      106.25      130.25     ]\n",
      "   ...\n",
      "   [133.5       125.5       149.5      ]\n",
      "   [129.25      121.25      145.25     ]\n",
      "   [127.75      119.75      143.75     ]]\n",
      "\n",
      "  [[114.        106.        130.       ]\n",
      "   [111.5       103.5       127.5      ]\n",
      "   [112.        104.        128.       ]\n",
      "   ...\n",
      "   [131.        123.        147.       ]\n",
      "   [127.5       119.5       143.5      ]\n",
      "   [126.75      118.75      142.75     ]]\n",
      "\n",
      "  ...\n",
      "\n",
      "  [[107.         99.        120.       ]\n",
      "   [109.        101.        122.       ]\n",
      "   [101.5        93.5       114.5      ]\n",
      "   ...\n",
      "   [108.25       99.25      120.25     ]\n",
      "   [100.75       91.75      112.75     ]\n",
      "   [103.5        94.5       115.5      ]]\n",
      "\n",
      "  [[105.75       97.75      118.75     ]\n",
      "   [110.        102.        123.       ]\n",
      "   [106.         98.        119.       ]\n",
      "   ...\n",
      "   [103.25       94.25      115.25     ]\n",
      "   [105.         96.        117.       ]\n",
      "   [100.         91.        112.       ]]\n",
      "\n",
      "  [[108.75      100.75      121.75     ]\n",
      "   [104.5        96.5       117.5      ]\n",
      "   [100.5        92.5       113.5      ]\n",
      "   ...\n",
      "   [116.        107.        128.       ]\n",
      "   [114.25      105.25      126.25     ]\n",
      "   [106.75       97.75      118.75     ]]]], shape=(32, 128, 128, 3), dtype=float32) (32, 128, 128, 3)\n",
      "tf.Tensor(\n",
      "[[0. 0. 0. ... 0. 0. 0.]\n",
      " [0. 0. 0. ... 0. 0. 0.]\n",
      " [0. 0. 0. ... 0. 0. 0.]\n",
      " ...\n",
      " [0. 0. 0. ... 0. 0. 0.]\n",
      " [0. 0. 0. ... 0. 0. 1.]\n",
      " [0. 0. 0. ... 0. 0. 0.]], shape=(32, 39), dtype=float32) (32, 39)\n"
     ]
    }
   ],
   "source": [
    "for x,y in training_set:    \n",
    "    print(x,x.shape)    \n",
    "    print(y,y.shape)    \n",
    "    break"
   ]
  },
  {
   "cell_type": "code",
   "execution_count": 10,
   "id": "5600c60e-0bec-49c6-82b1-ada3fe3b4a57",
   "metadata": {},
   "outputs": [],
   "source": [
    "import tensorflow as tf\n",
    "from tensorflow.keras.layers import RandomFlip, RandomRotation, RandomZoom, RandomBrightness, Rescaling\n",
    "\n",
    "# Define augmentation layers\n",
    "data_augmentation = tf.keras.Sequential([\n",
    "    RandomFlip(\"horizontal\"),  # Randomly flips images horizontally\n",
    "    RandomRotation(0.2),       # Rotates images up to 20% of 360 degrees\n",
    "    RandomZoom(0.2),           # Zooms images in/out up to 20%\n",
    "    RandomBrightness(0.2)      # Adjusts brightness randomly\n",
    "])\n",
    "\n",
    "# Apply to training dataset\n",
    "training_set = training_set.map(lambda x, y: (data_augmentation(x), y))\n"
   ]
  },
  {
   "cell_type": "code",
   "execution_count": 14,
   "id": "f0a3b851-2971-4f22-b5ad-b2d224af3662",
   "metadata": {},
   "outputs": [],
   "source": [
    "from tensorflow.keras.layers import Dense,Conv2D,MaxPool2D,Flatten,Dropout\n",
    "from tensorflow.keras.models import Sequential"
   ]
  },
  {
   "cell_type": "code",
   "execution_count": 15,
   "id": "eaa76a7d-269e-4dd4-856a-a5fdae01f898",
   "metadata": {},
   "outputs": [],
   "source": [
    "model = Sequential()"
   ]
  },
  {
   "cell_type": "code",
   "execution_count": 16,
   "id": "a8402925-abaf-46e5-a257-e22c3b703300",
   "metadata": {},
   "outputs": [],
   "source": [
    "model.add(Conv2D(filters=32,kernel_size=3,padding='same',activation='relu',input_shape=[128,128,3]))\n",
    "model.add(Conv2D(filters=32,kernel_size=3,activation='relu'))\n",
    "model.add(MaxPool2D(pool_size=2,strides=2))"
   ]
  },
  {
   "cell_type": "code",
   "execution_count": 17,
   "id": "ab2ff7da-e199-41d3-abf9-9fbb84c7d6d6",
   "metadata": {},
   "outputs": [],
   "source": [
    "model.add(Conv2D(filters=64,kernel_size=3,padding='same',activation='relu'))\n",
    "model.add(Conv2D(filters=64,kernel_size=3,activation='relu'))\n",
    "model.add(MaxPool2D(pool_size=2,strides=2))"
   ]
  },
  {
   "cell_type": "code",
   "execution_count": 18,
   "id": "ef250d2e-c79a-401d-9fcb-3d22c93c2fcc",
   "metadata": {},
   "outputs": [],
   "source": [
    "model.add(Conv2D(filters=128,kernel_size=3,padding='same',activation='relu'))\n",
    "model.add(Conv2D(filters=128,kernel_size=3,activation='relu'))\n",
    "model.add(MaxPool2D(pool_size=2,strides=2))"
   ]
  },
  {
   "cell_type": "code",
   "execution_count": 19,
   "id": "c33ee53d-db78-40b1-976a-c402d76ed52a",
   "metadata": {},
   "outputs": [],
   "source": [
    "model.add(Conv2D(filters=256,kernel_size=3,padding='same',activation='relu'))\n",
    "model.add(Conv2D(filters=256,kernel_size=3,activation='relu'))\n",
    "model.add(MaxPool2D(pool_size=2,strides=2))"
   ]
  },
  {
   "cell_type": "code",
   "execution_count": 20,
   "id": "2c6b6b5a-f3c1-4a45-8643-415b4112eb94",
   "metadata": {},
   "outputs": [],
   "source": [
    "model.add(Conv2D(filters=512,kernel_size=3,padding='same',activation='relu'))\n",
    "model.add(Conv2D(filters=512,kernel_size=3,activation='relu'))\n",
    "model.add(MaxPool2D(pool_size=2,strides=2))"
   ]
  },
  {
   "cell_type": "code",
   "execution_count": 21,
   "id": "fae9ad10-5cbb-4c90-a360-6cea44aa93cb",
   "metadata": {},
   "outputs": [],
   "source": [
    "model.add(Dropout(0.25)) # To avoid Overfitting\n",
    "model.add(Flatten())"
   ]
  },
  {
   "cell_type": "code",
   "execution_count": 22,
   "id": "4e62b273-580f-4947-b1d5-8543d9c2f989",
   "metadata": {},
   "outputs": [],
   "source": [
    "model.add(Dense(units=1500,activation='relu'))"
   ]
  },
  {
   "cell_type": "code",
   "execution_count": 23,
   "id": "3b81ed85-27b3-4bd0-b113-983e58507ecc",
   "metadata": {},
   "outputs": [],
   "source": [
    "model.add(Dropout(0.4))"
   ]
  },
  {
   "cell_type": "code",
   "execution_count": 24,
   "id": "6198188f-1b8c-4205-80d2-4a8f4f7ca913",
   "metadata": {},
   "outputs": [],
   "source": [
    "#Output Layer\n",
    "model.add(Dense(units=39,activation='softmax'))"
   ]
  },
  {
   "cell_type": "code",
   "execution_count": 25,
   "id": "957c6fa2-1058-4a84-b94e-de47564e548b",
   "metadata": {},
   "outputs": [],
   "source": [
    "model.compile(optimizer=tf.keras.optimizers.Adam(\n",
    "    learning_rate=0.0001),loss='categorical_crossentropy',metrics=['accuracy'])"
   ]
  },
  {
   "cell_type": "code",
   "execution_count": 26,
   "id": "cc5da6dd-da71-481f-8b41-96e7eadc308c",
   "metadata": {},
   "outputs": [
    {
     "data": {
      "text/html": [
       "<pre style=\"white-space:pre;overflow-x:auto;line-height:normal;font-family:Menlo,'DejaVu Sans Mono',consolas,'Courier New',monospace\"><span style=\"font-weight: bold\">Model: \"sequential_2\"</span>\n",
       "</pre>\n"
      ],
      "text/plain": [
       "\u001b[1mModel: \"sequential_2\"\u001b[0m\n"
      ]
     },
     "metadata": {},
     "output_type": "display_data"
    },
    {
     "data": {
      "text/html": [
       "<pre style=\"white-space:pre;overflow-x:auto;line-height:normal;font-family:Menlo,'DejaVu Sans Mono',consolas,'Courier New',monospace\">┏━━━━━━━━━━━━━━━━━━━━━━━━━━━━━━━━━┳━━━━━━━━━━━━━━━━━━━━━━━━┳━━━━━━━━━━━━━━━┓\n",
       "┃<span style=\"font-weight: bold\"> Layer (type)                    </span>┃<span style=\"font-weight: bold\"> Output Shape           </span>┃<span style=\"font-weight: bold\">       Param # </span>┃\n",
       "┡━━━━━━━━━━━━━━━━━━━━━━━━━━━━━━━━━╇━━━━━━━━━━━━━━━━━━━━━━━━╇━━━━━━━━━━━━━━━┩\n",
       "│ conv2d_2 (<span style=\"color: #0087ff; text-decoration-color: #0087ff\">Conv2D</span>)               │ (<span style=\"color: #00d7ff; text-decoration-color: #00d7ff\">None</span>, <span style=\"color: #00af00; text-decoration-color: #00af00\">128</span>, <span style=\"color: #00af00; text-decoration-color: #00af00\">128</span>, <span style=\"color: #00af00; text-decoration-color: #00af00\">32</span>)   │           <span style=\"color: #00af00; text-decoration-color: #00af00\">896</span> │\n",
       "├─────────────────────────────────┼────────────────────────┼───────────────┤\n",
       "│ conv2d_3 (<span style=\"color: #0087ff; text-decoration-color: #0087ff\">Conv2D</span>)               │ (<span style=\"color: #00d7ff; text-decoration-color: #00d7ff\">None</span>, <span style=\"color: #00af00; text-decoration-color: #00af00\">126</span>, <span style=\"color: #00af00; text-decoration-color: #00af00\">126</span>, <span style=\"color: #00af00; text-decoration-color: #00af00\">32</span>)   │         <span style=\"color: #00af00; text-decoration-color: #00af00\">9,248</span> │\n",
       "├─────────────────────────────────┼────────────────────────┼───────────────┤\n",
       "│ max_pooling2d_1 (<span style=\"color: #0087ff; text-decoration-color: #0087ff\">MaxPooling2D</span>)  │ (<span style=\"color: #00d7ff; text-decoration-color: #00d7ff\">None</span>, <span style=\"color: #00af00; text-decoration-color: #00af00\">63</span>, <span style=\"color: #00af00; text-decoration-color: #00af00\">63</span>, <span style=\"color: #00af00; text-decoration-color: #00af00\">32</span>)     │             <span style=\"color: #00af00; text-decoration-color: #00af00\">0</span> │\n",
       "├─────────────────────────────────┼────────────────────────┼───────────────┤\n",
       "│ conv2d_4 (<span style=\"color: #0087ff; text-decoration-color: #0087ff\">Conv2D</span>)               │ (<span style=\"color: #00d7ff; text-decoration-color: #00d7ff\">None</span>, <span style=\"color: #00af00; text-decoration-color: #00af00\">63</span>, <span style=\"color: #00af00; text-decoration-color: #00af00\">63</span>, <span style=\"color: #00af00; text-decoration-color: #00af00\">64</span>)     │        <span style=\"color: #00af00; text-decoration-color: #00af00\">18,496</span> │\n",
       "├─────────────────────────────────┼────────────────────────┼───────────────┤\n",
       "│ conv2d_5 (<span style=\"color: #0087ff; text-decoration-color: #0087ff\">Conv2D</span>)               │ (<span style=\"color: #00d7ff; text-decoration-color: #00d7ff\">None</span>, <span style=\"color: #00af00; text-decoration-color: #00af00\">61</span>, <span style=\"color: #00af00; text-decoration-color: #00af00\">61</span>, <span style=\"color: #00af00; text-decoration-color: #00af00\">64</span>)     │        <span style=\"color: #00af00; text-decoration-color: #00af00\">36,928</span> │\n",
       "├─────────────────────────────────┼────────────────────────┼───────────────┤\n",
       "│ max_pooling2d_2 (<span style=\"color: #0087ff; text-decoration-color: #0087ff\">MaxPooling2D</span>)  │ (<span style=\"color: #00d7ff; text-decoration-color: #00d7ff\">None</span>, <span style=\"color: #00af00; text-decoration-color: #00af00\">30</span>, <span style=\"color: #00af00; text-decoration-color: #00af00\">30</span>, <span style=\"color: #00af00; text-decoration-color: #00af00\">64</span>)     │             <span style=\"color: #00af00; text-decoration-color: #00af00\">0</span> │\n",
       "├─────────────────────────────────┼────────────────────────┼───────────────┤\n",
       "│ conv2d_6 (<span style=\"color: #0087ff; text-decoration-color: #0087ff\">Conv2D</span>)               │ (<span style=\"color: #00d7ff; text-decoration-color: #00d7ff\">None</span>, <span style=\"color: #00af00; text-decoration-color: #00af00\">30</span>, <span style=\"color: #00af00; text-decoration-color: #00af00\">30</span>, <span style=\"color: #00af00; text-decoration-color: #00af00\">128</span>)    │        <span style=\"color: #00af00; text-decoration-color: #00af00\">73,856</span> │\n",
       "├─────────────────────────────────┼────────────────────────┼───────────────┤\n",
       "│ conv2d_7 (<span style=\"color: #0087ff; text-decoration-color: #0087ff\">Conv2D</span>)               │ (<span style=\"color: #00d7ff; text-decoration-color: #00d7ff\">None</span>, <span style=\"color: #00af00; text-decoration-color: #00af00\">28</span>, <span style=\"color: #00af00; text-decoration-color: #00af00\">28</span>, <span style=\"color: #00af00; text-decoration-color: #00af00\">128</span>)    │       <span style=\"color: #00af00; text-decoration-color: #00af00\">147,584</span> │\n",
       "├─────────────────────────────────┼────────────────────────┼───────────────┤\n",
       "│ max_pooling2d_3 (<span style=\"color: #0087ff; text-decoration-color: #0087ff\">MaxPooling2D</span>)  │ (<span style=\"color: #00d7ff; text-decoration-color: #00d7ff\">None</span>, <span style=\"color: #00af00; text-decoration-color: #00af00\">14</span>, <span style=\"color: #00af00; text-decoration-color: #00af00\">14</span>, <span style=\"color: #00af00; text-decoration-color: #00af00\">128</span>)    │             <span style=\"color: #00af00; text-decoration-color: #00af00\">0</span> │\n",
       "├─────────────────────────────────┼────────────────────────┼───────────────┤\n",
       "│ conv2d_8 (<span style=\"color: #0087ff; text-decoration-color: #0087ff\">Conv2D</span>)               │ (<span style=\"color: #00d7ff; text-decoration-color: #00d7ff\">None</span>, <span style=\"color: #00af00; text-decoration-color: #00af00\">14</span>, <span style=\"color: #00af00; text-decoration-color: #00af00\">14</span>, <span style=\"color: #00af00; text-decoration-color: #00af00\">256</span>)    │       <span style=\"color: #00af00; text-decoration-color: #00af00\">295,168</span> │\n",
       "├─────────────────────────────────┼────────────────────────┼───────────────┤\n",
       "│ conv2d_9 (<span style=\"color: #0087ff; text-decoration-color: #0087ff\">Conv2D</span>)               │ (<span style=\"color: #00d7ff; text-decoration-color: #00d7ff\">None</span>, <span style=\"color: #00af00; text-decoration-color: #00af00\">12</span>, <span style=\"color: #00af00; text-decoration-color: #00af00\">12</span>, <span style=\"color: #00af00; text-decoration-color: #00af00\">256</span>)    │       <span style=\"color: #00af00; text-decoration-color: #00af00\">590,080</span> │\n",
       "├─────────────────────────────────┼────────────────────────┼───────────────┤\n",
       "│ max_pooling2d_4 (<span style=\"color: #0087ff; text-decoration-color: #0087ff\">MaxPooling2D</span>)  │ (<span style=\"color: #00d7ff; text-decoration-color: #00d7ff\">None</span>, <span style=\"color: #00af00; text-decoration-color: #00af00\">6</span>, <span style=\"color: #00af00; text-decoration-color: #00af00\">6</span>, <span style=\"color: #00af00; text-decoration-color: #00af00\">256</span>)      │             <span style=\"color: #00af00; text-decoration-color: #00af00\">0</span> │\n",
       "├─────────────────────────────────┼────────────────────────┼───────────────┤\n",
       "│ conv2d_10 (<span style=\"color: #0087ff; text-decoration-color: #0087ff\">Conv2D</span>)              │ (<span style=\"color: #00d7ff; text-decoration-color: #00d7ff\">None</span>, <span style=\"color: #00af00; text-decoration-color: #00af00\">6</span>, <span style=\"color: #00af00; text-decoration-color: #00af00\">6</span>, <span style=\"color: #00af00; text-decoration-color: #00af00\">512</span>)      │     <span style=\"color: #00af00; text-decoration-color: #00af00\">1,180,160</span> │\n",
       "├─────────────────────────────────┼────────────────────────┼───────────────┤\n",
       "│ conv2d_11 (<span style=\"color: #0087ff; text-decoration-color: #0087ff\">Conv2D</span>)              │ (<span style=\"color: #00d7ff; text-decoration-color: #00d7ff\">None</span>, <span style=\"color: #00af00; text-decoration-color: #00af00\">4</span>, <span style=\"color: #00af00; text-decoration-color: #00af00\">4</span>, <span style=\"color: #00af00; text-decoration-color: #00af00\">512</span>)      │     <span style=\"color: #00af00; text-decoration-color: #00af00\">2,359,808</span> │\n",
       "├─────────────────────────────────┼────────────────────────┼───────────────┤\n",
       "│ max_pooling2d_5 (<span style=\"color: #0087ff; text-decoration-color: #0087ff\">MaxPooling2D</span>)  │ (<span style=\"color: #00d7ff; text-decoration-color: #00d7ff\">None</span>, <span style=\"color: #00af00; text-decoration-color: #00af00\">2</span>, <span style=\"color: #00af00; text-decoration-color: #00af00\">2</span>, <span style=\"color: #00af00; text-decoration-color: #00af00\">512</span>)      │             <span style=\"color: #00af00; text-decoration-color: #00af00\">0</span> │\n",
       "├─────────────────────────────────┼────────────────────────┼───────────────┤\n",
       "│ dropout (<span style=\"color: #0087ff; text-decoration-color: #0087ff\">Dropout</span>)               │ (<span style=\"color: #00d7ff; text-decoration-color: #00d7ff\">None</span>, <span style=\"color: #00af00; text-decoration-color: #00af00\">2</span>, <span style=\"color: #00af00; text-decoration-color: #00af00\">2</span>, <span style=\"color: #00af00; text-decoration-color: #00af00\">512</span>)      │             <span style=\"color: #00af00; text-decoration-color: #00af00\">0</span> │\n",
       "├─────────────────────────────────┼────────────────────────┼───────────────┤\n",
       "│ flatten (<span style=\"color: #0087ff; text-decoration-color: #0087ff\">Flatten</span>)               │ (<span style=\"color: #00d7ff; text-decoration-color: #00d7ff\">None</span>, <span style=\"color: #00af00; text-decoration-color: #00af00\">2048</span>)           │             <span style=\"color: #00af00; text-decoration-color: #00af00\">0</span> │\n",
       "├─────────────────────────────────┼────────────────────────┼───────────────┤\n",
       "│ dense (<span style=\"color: #0087ff; text-decoration-color: #0087ff\">Dense</span>)                   │ (<span style=\"color: #00d7ff; text-decoration-color: #00d7ff\">None</span>, <span style=\"color: #00af00; text-decoration-color: #00af00\">1500</span>)           │     <span style=\"color: #00af00; text-decoration-color: #00af00\">3,073,500</span> │\n",
       "├─────────────────────────────────┼────────────────────────┼───────────────┤\n",
       "│ dropout_1 (<span style=\"color: #0087ff; text-decoration-color: #0087ff\">Dropout</span>)             │ (<span style=\"color: #00d7ff; text-decoration-color: #00d7ff\">None</span>, <span style=\"color: #00af00; text-decoration-color: #00af00\">1500</span>)           │             <span style=\"color: #00af00; text-decoration-color: #00af00\">0</span> │\n",
       "├─────────────────────────────────┼────────────────────────┼───────────────┤\n",
       "│ dense_1 (<span style=\"color: #0087ff; text-decoration-color: #0087ff\">Dense</span>)                 │ (<span style=\"color: #00d7ff; text-decoration-color: #00d7ff\">None</span>, <span style=\"color: #00af00; text-decoration-color: #00af00\">39</span>)             │        <span style=\"color: #00af00; text-decoration-color: #00af00\">58,539</span> │\n",
       "└─────────────────────────────────┴────────────────────────┴───────────────┘\n",
       "</pre>\n"
      ],
      "text/plain": [
       "┏━━━━━━━━━━━━━━━━━━━━━━━━━━━━━━━━━┳━━━━━━━━━━━━━━━━━━━━━━━━┳━━━━━━━━━━━━━━━┓\n",
       "┃\u001b[1m \u001b[0m\u001b[1mLayer (type)                   \u001b[0m\u001b[1m \u001b[0m┃\u001b[1m \u001b[0m\u001b[1mOutput Shape          \u001b[0m\u001b[1m \u001b[0m┃\u001b[1m \u001b[0m\u001b[1m      Param #\u001b[0m\u001b[1m \u001b[0m┃\n",
       "┡━━━━━━━━━━━━━━━━━━━━━━━━━━━━━━━━━╇━━━━━━━━━━━━━━━━━━━━━━━━╇━━━━━━━━━━━━━━━┩\n",
       "│ conv2d_2 (\u001b[38;5;33mConv2D\u001b[0m)               │ (\u001b[38;5;45mNone\u001b[0m, \u001b[38;5;34m128\u001b[0m, \u001b[38;5;34m128\u001b[0m, \u001b[38;5;34m32\u001b[0m)   │           \u001b[38;5;34m896\u001b[0m │\n",
       "├─────────────────────────────────┼────────────────────────┼───────────────┤\n",
       "│ conv2d_3 (\u001b[38;5;33mConv2D\u001b[0m)               │ (\u001b[38;5;45mNone\u001b[0m, \u001b[38;5;34m126\u001b[0m, \u001b[38;5;34m126\u001b[0m, \u001b[38;5;34m32\u001b[0m)   │         \u001b[38;5;34m9,248\u001b[0m │\n",
       "├─────────────────────────────────┼────────────────────────┼───────────────┤\n",
       "│ max_pooling2d_1 (\u001b[38;5;33mMaxPooling2D\u001b[0m)  │ (\u001b[38;5;45mNone\u001b[0m, \u001b[38;5;34m63\u001b[0m, \u001b[38;5;34m63\u001b[0m, \u001b[38;5;34m32\u001b[0m)     │             \u001b[38;5;34m0\u001b[0m │\n",
       "├─────────────────────────────────┼────────────────────────┼───────────────┤\n",
       "│ conv2d_4 (\u001b[38;5;33mConv2D\u001b[0m)               │ (\u001b[38;5;45mNone\u001b[0m, \u001b[38;5;34m63\u001b[0m, \u001b[38;5;34m63\u001b[0m, \u001b[38;5;34m64\u001b[0m)     │        \u001b[38;5;34m18,496\u001b[0m │\n",
       "├─────────────────────────────────┼────────────────────────┼───────────────┤\n",
       "│ conv2d_5 (\u001b[38;5;33mConv2D\u001b[0m)               │ (\u001b[38;5;45mNone\u001b[0m, \u001b[38;5;34m61\u001b[0m, \u001b[38;5;34m61\u001b[0m, \u001b[38;5;34m64\u001b[0m)     │        \u001b[38;5;34m36,928\u001b[0m │\n",
       "├─────────────────────────────────┼────────────────────────┼───────────────┤\n",
       "│ max_pooling2d_2 (\u001b[38;5;33mMaxPooling2D\u001b[0m)  │ (\u001b[38;5;45mNone\u001b[0m, \u001b[38;5;34m30\u001b[0m, \u001b[38;5;34m30\u001b[0m, \u001b[38;5;34m64\u001b[0m)     │             \u001b[38;5;34m0\u001b[0m │\n",
       "├─────────────────────────────────┼────────────────────────┼───────────────┤\n",
       "│ conv2d_6 (\u001b[38;5;33mConv2D\u001b[0m)               │ (\u001b[38;5;45mNone\u001b[0m, \u001b[38;5;34m30\u001b[0m, \u001b[38;5;34m30\u001b[0m, \u001b[38;5;34m128\u001b[0m)    │        \u001b[38;5;34m73,856\u001b[0m │\n",
       "├─────────────────────────────────┼────────────────────────┼───────────────┤\n",
       "│ conv2d_7 (\u001b[38;5;33mConv2D\u001b[0m)               │ (\u001b[38;5;45mNone\u001b[0m, \u001b[38;5;34m28\u001b[0m, \u001b[38;5;34m28\u001b[0m, \u001b[38;5;34m128\u001b[0m)    │       \u001b[38;5;34m147,584\u001b[0m │\n",
       "├─────────────────────────────────┼────────────────────────┼───────────────┤\n",
       "│ max_pooling2d_3 (\u001b[38;5;33mMaxPooling2D\u001b[0m)  │ (\u001b[38;5;45mNone\u001b[0m, \u001b[38;5;34m14\u001b[0m, \u001b[38;5;34m14\u001b[0m, \u001b[38;5;34m128\u001b[0m)    │             \u001b[38;5;34m0\u001b[0m │\n",
       "├─────────────────────────────────┼────────────────────────┼───────────────┤\n",
       "│ conv2d_8 (\u001b[38;5;33mConv2D\u001b[0m)               │ (\u001b[38;5;45mNone\u001b[0m, \u001b[38;5;34m14\u001b[0m, \u001b[38;5;34m14\u001b[0m, \u001b[38;5;34m256\u001b[0m)    │       \u001b[38;5;34m295,168\u001b[0m │\n",
       "├─────────────────────────────────┼────────────────────────┼───────────────┤\n",
       "│ conv2d_9 (\u001b[38;5;33mConv2D\u001b[0m)               │ (\u001b[38;5;45mNone\u001b[0m, \u001b[38;5;34m12\u001b[0m, \u001b[38;5;34m12\u001b[0m, \u001b[38;5;34m256\u001b[0m)    │       \u001b[38;5;34m590,080\u001b[0m │\n",
       "├─────────────────────────────────┼────────────────────────┼───────────────┤\n",
       "│ max_pooling2d_4 (\u001b[38;5;33mMaxPooling2D\u001b[0m)  │ (\u001b[38;5;45mNone\u001b[0m, \u001b[38;5;34m6\u001b[0m, \u001b[38;5;34m6\u001b[0m, \u001b[38;5;34m256\u001b[0m)      │             \u001b[38;5;34m0\u001b[0m │\n",
       "├─────────────────────────────────┼────────────────────────┼───────────────┤\n",
       "│ conv2d_10 (\u001b[38;5;33mConv2D\u001b[0m)              │ (\u001b[38;5;45mNone\u001b[0m, \u001b[38;5;34m6\u001b[0m, \u001b[38;5;34m6\u001b[0m, \u001b[38;5;34m512\u001b[0m)      │     \u001b[38;5;34m1,180,160\u001b[0m │\n",
       "├─────────────────────────────────┼────────────────────────┼───────────────┤\n",
       "│ conv2d_11 (\u001b[38;5;33mConv2D\u001b[0m)              │ (\u001b[38;5;45mNone\u001b[0m, \u001b[38;5;34m4\u001b[0m, \u001b[38;5;34m4\u001b[0m, \u001b[38;5;34m512\u001b[0m)      │     \u001b[38;5;34m2,359,808\u001b[0m │\n",
       "├─────────────────────────────────┼────────────────────────┼───────────────┤\n",
       "│ max_pooling2d_5 (\u001b[38;5;33mMaxPooling2D\u001b[0m)  │ (\u001b[38;5;45mNone\u001b[0m, \u001b[38;5;34m2\u001b[0m, \u001b[38;5;34m2\u001b[0m, \u001b[38;5;34m512\u001b[0m)      │             \u001b[38;5;34m0\u001b[0m │\n",
       "├─────────────────────────────────┼────────────────────────┼───────────────┤\n",
       "│ dropout (\u001b[38;5;33mDropout\u001b[0m)               │ (\u001b[38;5;45mNone\u001b[0m, \u001b[38;5;34m2\u001b[0m, \u001b[38;5;34m2\u001b[0m, \u001b[38;5;34m512\u001b[0m)      │             \u001b[38;5;34m0\u001b[0m │\n",
       "├─────────────────────────────────┼────────────────────────┼───────────────┤\n",
       "│ flatten (\u001b[38;5;33mFlatten\u001b[0m)               │ (\u001b[38;5;45mNone\u001b[0m, \u001b[38;5;34m2048\u001b[0m)           │             \u001b[38;5;34m0\u001b[0m │\n",
       "├─────────────────────────────────┼────────────────────────┼───────────────┤\n",
       "│ dense (\u001b[38;5;33mDense\u001b[0m)                   │ (\u001b[38;5;45mNone\u001b[0m, \u001b[38;5;34m1500\u001b[0m)           │     \u001b[38;5;34m3,073,500\u001b[0m │\n",
       "├─────────────────────────────────┼────────────────────────┼───────────────┤\n",
       "│ dropout_1 (\u001b[38;5;33mDropout\u001b[0m)             │ (\u001b[38;5;45mNone\u001b[0m, \u001b[38;5;34m1500\u001b[0m)           │             \u001b[38;5;34m0\u001b[0m │\n",
       "├─────────────────────────────────┼────────────────────────┼───────────────┤\n",
       "│ dense_1 (\u001b[38;5;33mDense\u001b[0m)                 │ (\u001b[38;5;45mNone\u001b[0m, \u001b[38;5;34m39\u001b[0m)             │        \u001b[38;5;34m58,539\u001b[0m │\n",
       "└─────────────────────────────────┴────────────────────────┴───────────────┘\n"
      ]
     },
     "metadata": {},
     "output_type": "display_data"
    },
    {
     "data": {
      "text/html": [
       "<pre style=\"white-space:pre;overflow-x:auto;line-height:normal;font-family:Menlo,'DejaVu Sans Mono',consolas,'Courier New',monospace\"><span style=\"font-weight: bold\"> Total params: </span><span style=\"color: #00af00; text-decoration-color: #00af00\">7,844,263</span> (29.92 MB)\n",
       "</pre>\n"
      ],
      "text/plain": [
       "\u001b[1m Total params: \u001b[0m\u001b[38;5;34m7,844,263\u001b[0m (29.92 MB)\n"
      ]
     },
     "metadata": {},
     "output_type": "display_data"
    },
    {
     "data": {
      "text/html": [
       "<pre style=\"white-space:pre;overflow-x:auto;line-height:normal;font-family:Menlo,'DejaVu Sans Mono',consolas,'Courier New',monospace\"><span style=\"font-weight: bold\"> Trainable params: </span><span style=\"color: #00af00; text-decoration-color: #00af00\">7,844,263</span> (29.92 MB)\n",
       "</pre>\n"
      ],
      "text/plain": [
       "\u001b[1m Trainable params: \u001b[0m\u001b[38;5;34m7,844,263\u001b[0m (29.92 MB)\n"
      ]
     },
     "metadata": {},
     "output_type": "display_data"
    },
    {
     "data": {
      "text/html": [
       "<pre style=\"white-space:pre;overflow-x:auto;line-height:normal;font-family:Menlo,'DejaVu Sans Mono',consolas,'Courier New',monospace\"><span style=\"font-weight: bold\"> Non-trainable params: </span><span style=\"color: #00af00; text-decoration-color: #00af00\">0</span> (0.00 B)\n",
       "</pre>\n"
      ],
      "text/plain": [
       "\u001b[1m Non-trainable params: \u001b[0m\u001b[38;5;34m0\u001b[0m (0.00 B)\n"
      ]
     },
     "metadata": {},
     "output_type": "display_data"
    }
   ],
   "source": [
    "model.summary()"
   ]
  },
  {
   "cell_type": "code",
   "execution_count": 27,
   "id": "4c35a214-570f-4932-827a-c8311bc23bd3",
   "metadata": {},
   "outputs": [
    {
     "name": "stdout",
     "output_type": "stream",
     "text": [
      "Epoch 1/10\n"
     ]
    },
    {
     "name": "stderr",
     "output_type": "stream",
     "text": [
      "2025-03-02 19:02:30.658556: I tensorflow/core/grappler/optimizers/custom_graph_optimizer_registry.cc:117] Plugin optimizer for device_type GPU is enabled.\n"
     ]
    },
    {
     "name": "stdout",
     "output_type": "stream",
     "text": [
      "\u001b[1m2399/2399\u001b[0m \u001b[32m━━━━━━━━━━━━━━━━━━━━\u001b[0m\u001b[37m\u001b[0m \u001b[1m443s\u001b[0m 183ms/step - accuracy: 0.3023 - loss: 2.5660 - val_accuracy: 0.7284 - val_loss: 0.9258\n",
      "Epoch 2/10\n",
      "\u001b[1m2399/2399\u001b[0m \u001b[32m━━━━━━━━━━━━━━━━━━━━\u001b[0m\u001b[37m\u001b[0m \u001b[1m309s\u001b[0m 129ms/step - accuracy: 0.7162 - loss: 0.9509 - val_accuracy: 0.8290 - val_loss: 0.6285\n",
      "Epoch 3/10\n",
      "\u001b[1m2399/2399\u001b[0m \u001b[32m━━━━━━━━━━━━━━━━━━━━\u001b[0m\u001b[37m\u001b[0m \u001b[1m313s\u001b[0m 130ms/step - accuracy: 0.8136 - loss: 0.6137 - val_accuracy: 0.8838 - val_loss: 0.4053\n",
      "Epoch 4/10\n",
      "\u001b[1m2399/2399\u001b[0m \u001b[32m━━━━━━━━━━━━━━━━━━━━\u001b[0m\u001b[37m\u001b[0m \u001b[1m321s\u001b[0m 134ms/step - accuracy: 0.8568 - loss: 0.4667 - val_accuracy: 0.8581 - val_loss: 0.5289\n",
      "Epoch 5/10\n",
      "\u001b[1m2399/2399\u001b[0m \u001b[32m━━━━━━━━━━━━━━━━━━━━\u001b[0m\u001b[37m\u001b[0m \u001b[1m318s\u001b[0m 132ms/step - accuracy: 0.8874 - loss: 0.3720 - val_accuracy: 0.9217 - val_loss: 0.2802\n",
      "Epoch 6/10\n",
      "\u001b[1m2399/2399\u001b[0m \u001b[32m━━━━━━━━━━━━━━━━━━━━\u001b[0m\u001b[37m\u001b[0m \u001b[1m329s\u001b[0m 137ms/step - accuracy: 0.9033 - loss: 0.3237 - val_accuracy: 0.9461 - val_loss: 0.1894\n",
      "Epoch 7/10\n",
      "\u001b[1m2399/2399\u001b[0m \u001b[32m━━━━━━━━━━━━━━━━━━━━\u001b[0m\u001b[37m\u001b[0m \u001b[1m329s\u001b[0m 137ms/step - accuracy: 0.9167 - loss: 0.2733 - val_accuracy: 0.9394 - val_loss: 0.2198\n",
      "Epoch 8/10\n",
      "\u001b[1m2399/2399\u001b[0m \u001b[32m━━━━━━━━━━━━━━━━━━━━\u001b[0m\u001b[37m\u001b[0m \u001b[1m327s\u001b[0m 136ms/step - accuracy: 0.9268 - loss: 0.2464 - val_accuracy: 0.9410 - val_loss: 0.2158\n",
      "Epoch 9/10\n",
      "\u001b[1m2399/2399\u001b[0m \u001b[32m━━━━━━━━━━━━━━━━━━━━\u001b[0m\u001b[37m\u001b[0m \u001b[1m322s\u001b[0m 134ms/step - accuracy: 0.9341 - loss: 0.2230 - val_accuracy: 0.9604 - val_loss: 0.1371\n",
      "Epoch 10/10\n",
      "\u001b[1m2399/2399\u001b[0m \u001b[32m━━━━━━━━━━━━━━━━━━━━\u001b[0m\u001b[37m\u001b[0m \u001b[1m309s\u001b[0m 129ms/step - accuracy: 0.9397 - loss: 0.2025 - val_accuracy: 0.9582 - val_loss: 0.1439\n"
     ]
    }
   ],
   "source": [
    "training_history = model.fit(x=training_set,validation_data=validation_set,epochs=10)"
   ]
  },
  {
   "cell_type": "code",
   "execution_count": 28,
   "id": "2d74508a-efc4-4273-ac93-c24edcfb0ca5",
   "metadata": {},
   "outputs": [
    {
     "name": "stdout",
     "output_type": "stream",
     "text": [
      "\u001b[1m2399/2399\u001b[0m \u001b[32m━━━━━━━━━━━━━━━━━━━━\u001b[0m\u001b[37m\u001b[0m \u001b[1m94s\u001b[0m 39ms/step - accuracy: 0.9480 - loss: 0.1698 \n"
     ]
    }
   ],
   "source": [
    "train_loss,train_acc = model.evaluate(training_set)"
   ]
  },
  {
   "cell_type": "code",
   "execution_count": 29,
   "id": "32d378c6-2eee-4e94-92d3-4b402cf5d929",
   "metadata": {},
   "outputs": [
    {
     "name": "stdout",
     "output_type": "stream",
     "text": [
      "0.16003353893756866 0.9500547051429749\n"
     ]
    }
   ],
   "source": [
    "print(train_loss,train_acc)"
   ]
  },
  {
   "cell_type": "code",
   "execution_count": 30,
   "id": "2cff2953-21e1-46c2-a786-de584fdf0d43",
   "metadata": {},
   "outputs": [
    {
     "name": "stdout",
     "output_type": "stream",
     "text": [
      "\u001b[1m752/752\u001b[0m \u001b[32m━━━━━━━━━━━━━━━━━━━━\u001b[0m\u001b[37m\u001b[0m \u001b[1m17s\u001b[0m 23ms/step - accuracy: 0.9568 - loss: 0.1464\n"
     ]
    }
   ],
   "source": [
    "val_loss,val_acc = model.evaluate(validation_set)"
   ]
  },
  {
   "cell_type": "code",
   "execution_count": 31,
   "id": "33f1c36a-0203-48ab-be9f-ddb428c18cc2",
   "metadata": {},
   "outputs": [
    {
     "name": "stdout",
     "output_type": "stream",
     "text": [
      "0.14387932419776917 0.9582380056381226\n"
     ]
    }
   ],
   "source": [
    "print(val_loss,val_acc)"
   ]
  },
  {
   "cell_type": "code",
   "execution_count": 51,
   "id": "6ee7cc6a-544f-4a57-8858-1c67d781bdf8",
   "metadata": {},
   "outputs": [],
   "source": [
    "model.save(\"plant_trained_model.keras\")"
   ]
  },
  {
   "cell_type": "code",
   "execution_count": 42,
   "id": "8c2501a5-6948-49c9-93ba-d4a456b65306",
   "metadata": {},
   "outputs": [
    {
     "name": "stdout",
     "output_type": "stream",
     "text": [
      "Found 24041 files belonging to 39 classes.\n"
     ]
    }
   ],
   "source": [
    "test_set=tf.keras.utils.image_dataset_from_directory(\n",
    "    'valid',\n",
    "    labels=\"inferred\",\n",
    "    label_mode=\"categorical\",\n",
    "    class_names=None,\n",
    "    color_mode=\"rgb\",\n",
    "    batch_size=32,\n",
    "    image_size=(128, 128),\n",
    "    shuffle=False,\n",
    "    seed=None,\n",
    "    validation_split=None,\n",
    "    subset=None,\n",
    "    interpolation=\"bilinear\",\n",
    "    follow_links=False,\n",
    "    crop_to_aspect_ratio=False,\n",
    ")"
   ]
  },
  {
   "cell_type": "code",
   "execution_count": 43,
   "id": "5cb28480-3f01-4c21-942f-06eca0e34187",
   "metadata": {},
   "outputs": [
    {
     "name": "stdout",
     "output_type": "stream",
     "text": [
      "\u001b[1m752/752\u001b[0m \u001b[32m━━━━━━━━━━━━━━━━━━━━\u001b[0m\u001b[37m\u001b[0m \u001b[1m18s\u001b[0m 24ms/step\n"
     ]
    },
    {
     "data": {
      "text/plain": [
       "(array([[9.99966621e-01, 2.85054369e-10, 1.25457110e-12, ...,\n",
       "         2.65024062e-11, 4.92871152e-13, 6.97064422e-13],\n",
       "        [9.99523044e-01, 7.44576123e-10, 9.63765352e-12, ...,\n",
       "         1.58744240e-10, 3.83455385e-11, 1.47540279e-11],\n",
       "        [1.00000000e+00, 1.39890129e-12, 8.43727401e-16, ...,\n",
       "         2.18275725e-17, 1.01196846e-16, 8.18399507e-15],\n",
       "        ...,\n",
       "        [1.54862153e-13, 5.44078654e-15, 9.40692619e-13, ...,\n",
       "         3.88186348e-15, 8.59928600e-16, 9.99999762e-01],\n",
       "        [4.84156647e-14, 2.13469921e-14, 4.58263072e-12, ...,\n",
       "         5.03520023e-14, 8.06568015e-14, 9.99999762e-01],\n",
       "        [6.46277556e-08, 2.02686379e-09, 2.40139684e-06, ...,\n",
       "         3.16036708e-09, 1.81053576e-06, 9.97954488e-01]], dtype=float32),\n",
       " (24041, 39))"
      ]
     },
     "execution_count": 43,
     "metadata": {},
     "output_type": "execute_result"
    }
   ],
   "source": [
    "y_pred=model.predict(test_set)\n",
    "y_pred, y_pred.shape"
   ]
  },
  {
   "cell_type": "code",
   "execution_count": 44,
   "id": "d1da93ed-d730-4652-a836-ddbdaf4fcc2f",
   "metadata": {},
   "outputs": [
    {
     "data": {
      "text/plain": [
       "<tf.Tensor: shape=(24041,), dtype=int64, numpy=array([ 0,  0,  0, ..., 38, 38, 38])>"
      ]
     },
     "execution_count": 44,
     "metadata": {},
     "output_type": "execute_result"
    }
   ],
   "source": [
    "predicted_categories = tf.argmax(y_pred, axis=1)\n",
    "predicted_categories"
   ]
  },
  {
   "cell_type": "code",
   "execution_count": 45,
   "id": "3a4d30f8-638a-4d70-a11f-df39eea82553",
   "metadata": {},
   "outputs": [
    {
     "name": "stderr",
     "output_type": "stream",
     "text": [
      "2025-03-02 20:42:09.808063: I tensorflow/core/framework/local_rendezvous.cc:405] Local rendezvous is aborting with status: OUT_OF_RANGE: End of sequence\n"
     ]
    },
    {
     "data": {
      "text/plain": [
       "<tf.Tensor: shape=(24041, 39), dtype=float32, numpy=\n",
       "array([[1., 0., 0., ..., 0., 0., 0.],\n",
       "       [1., 0., 0., ..., 0., 0., 0.],\n",
       "       [1., 0., 0., ..., 0., 0., 0.],\n",
       "       ...,\n",
       "       [0., 0., 0., ..., 0., 0., 1.],\n",
       "       [0., 0., 0., ..., 0., 0., 1.],\n",
       "       [0., 0., 0., ..., 0., 0., 1.]], dtype=float32)>"
      ]
     },
     "execution_count": 45,
     "metadata": {},
     "output_type": "execute_result"
    }
   ],
   "source": [
    "true_categories=tf.concat([y for x, y in test_set], axis=0)\n",
    "true_categories"
   ]
  },
  {
   "cell_type": "code",
   "execution_count": 46,
   "id": "69fbdf1b-5f20-493b-9d42-6bc670f093d8",
   "metadata": {},
   "outputs": [
    {
     "data": {
      "text/plain": [
       "<tf.Tensor: shape=(24041,), dtype=int64, numpy=array([ 0,  0,  0, ..., 38, 38, 38])>"
      ]
     },
     "execution_count": 46,
     "metadata": {},
     "output_type": "execute_result"
    }
   ],
   "source": [
    "Y_true = tf.argmax(true_categories, axis=1)\n",
    "Y_true"
   ]
  },
  {
   "cell_type": "code",
   "execution_count": 48,
   "id": "d6fb027b-3f72-42f6-8890-cc550c3b97b2",
   "metadata": {},
   "outputs": [],
   "source": [
    "from sklearn.metrics import classification_report, confusion_matrix"
   ]
  },
  {
   "cell_type": "code",
   "execution_count": 50,
   "id": "01a64560-e05d-4e4d-8a2c-d1ef2ce3fbf4",
   "metadata": {},
   "outputs": [
    {
     "name": "stdout",
     "output_type": "stream",
     "text": [
      "                                                    precision    recall  f1-score   support\n",
      "\n",
      "                                Apple___Apple_scab       1.00      0.89      0.94       504\n",
      "                                 Apple___Black_rot       0.99      0.98      0.98       497\n",
      "                          Apple___Cedar_apple_rust       0.98      0.95      0.96       440\n",
      "                                   Apple___healthy       1.00      0.87      0.93       502\n",
      "                               Blueberry___healthy       0.95      0.95      0.95       454\n",
      "          Cherry_(including_sour)___Powdery_mildew       0.99      0.96      0.98       421\n",
      "                 Cherry_(including_sour)___healthy       0.98      0.96      0.97       456\n",
      "Corn_(maize)___Cercospora_leaf_spot Gray_leaf_spot       0.93      0.90      0.91       410\n",
      "                       Corn_(maize)___Common_rust_       0.94      1.00      0.97       477\n",
      "               Corn_(maize)___Northern_Leaf_Blight       0.94      0.97      0.95       477\n",
      "                            Corn_(maize)___healthy       1.00      0.98      0.99       465\n",
      "                                 Grape___Black_rot       0.98      0.90      0.94       472\n",
      "                      Grape___Esca_(Black_Measles)       0.91      1.00      0.95       480\n",
      "        Grape___Leaf_blight_(Isariopsis_Leaf_Spot)       0.99      0.96      0.98       430\n",
      "                                   Grape___healthy       1.00      0.97      0.99       423\n",
      "          Orange___Haunglongbing_(Citrus_greening)       0.99      0.96      0.98       503\n",
      "                            Peach___Bacterial_spot       0.92      0.93      0.93       459\n",
      "                                   Peach___healthy       0.99      0.95      0.97       432\n",
      "                     Pepper,_bell___Bacterial_spot       0.94      0.97      0.95       478\n",
      "                            Pepper,_bell___healthy       0.82      0.98      0.89       497\n",
      "                             Potato___Early_blight       0.86      1.00      0.92       485\n",
      "                              Potato___Late_blight       0.97      0.88      0.92       485\n",
      "                                  Potato___healthy       0.95      0.96      0.95       456\n",
      "                               Raspberry___healthy       0.90      0.99      0.94       445\n",
      "                                 Soybean___healthy       0.97      0.84      0.90       505\n",
      "                           Squash___Powdery_mildew       0.98      0.97      0.98       434\n",
      "                          Strawberry___Leaf_scorch       0.93      1.00      0.97       444\n",
      "                              Strawberry___healthy       0.95      0.99      0.97       456\n",
      "                           Tomato___Bacterial_spot       0.95      0.93      0.94       425\n",
      "                             Tomato___Early_blight       0.83      0.95      0.89       480\n",
      "                              Tomato___Late_blight       0.90      0.93      0.91       463\n",
      "                                Tomato___Leaf_Mold       0.90      0.98      0.94       470\n",
      "                       Tomato___Septoria_leaf_spot       0.94      0.88      0.91       436\n",
      "     Tomato___Spider_mites Two-spotted_spider_mite       0.96      0.88      0.92       435\n",
      "                              Tomato___Target_Spot       0.90      0.89      0.89       457\n",
      "            Tomato___Tomato_Yellow_Leaf_Curl_Virus       0.99      0.97      0.98       490\n",
      "                      Tomato___Tomato_mosaic_virus       0.94      1.00      0.97       448\n",
      "                                  Tomato___healthy       0.95      0.99      0.97       481\n",
      "                                        not_a_leaf       1.00      0.98      0.99      6469\n",
      "\n",
      "                                          accuracy                           0.96     24041\n",
      "                                         macro avg       0.95      0.95      0.95     24041\n",
      "                                      weighted avg       0.96      0.96      0.96     24041\n",
      "\n"
     ]
    }
   ],
   "source": [
    "print(classification_report(Y_true, predicted_categories, target_names=class_names))"
   ]
  },
  {
   "cell_type": "code",
   "execution_count": 59,
   "id": "68ad48c6-bdec-4d2c-aeea-6af1987c86b5",
   "metadata": {},
   "outputs": [
    {
     "name": "stdout",
     "output_type": "stream",
     "text": [
      "Data Directory exists: True\n",
      "Subdirectories in the Data Directory: [PosixPath('/Users/sneharaut/Desktop/Plant_Disease_Dataset-2/train/Strawberry___healthy'), PosixPath('/Users/sneharaut/Desktop/Plant_Disease_Dataset-2/train/Grape___Black_rot'), PosixPath('/Users/sneharaut/Desktop/Plant_Disease_Dataset-2/train/Potato___Early_blight'), PosixPath('/Users/sneharaut/Desktop/Plant_Disease_Dataset-2/train/Blueberry___healthy'), PosixPath('/Users/sneharaut/Desktop/Plant_Disease_Dataset-2/train/Corn_(maize)___healthy'), PosixPath('/Users/sneharaut/Desktop/Plant_Disease_Dataset-2/train/Tomato___Target_Spot'), PosixPath('/Users/sneharaut/Desktop/Plant_Disease_Dataset-2/train/.DS_Store'), PosixPath('/Users/sneharaut/Desktop/Plant_Disease_Dataset-2/train/Peach___healthy'), PosixPath('/Users/sneharaut/Desktop/Plant_Disease_Dataset-2/train/Potato___Late_blight'), PosixPath('/Users/sneharaut/Desktop/Plant_Disease_Dataset-2/train/Tomato___Late_blight'), PosixPath('/Users/sneharaut/Desktop/Plant_Disease_Dataset-2/train/Tomato___Tomato_mosaic_virus'), PosixPath('/Users/sneharaut/Desktop/Plant_Disease_Dataset-2/train/Pepper,_bell___healthy'), PosixPath('/Users/sneharaut/Desktop/Plant_Disease_Dataset-2/train/Orange___Haunglongbing_(Citrus_greening)'), PosixPath('/Users/sneharaut/Desktop/Plant_Disease_Dataset-2/train/Tomato___Leaf_Mold'), PosixPath('/Users/sneharaut/Desktop/Plant_Disease_Dataset-2/train/Grape___Leaf_blight_(Isariopsis_Leaf_Spot)'), PosixPath('/Users/sneharaut/Desktop/Plant_Disease_Dataset-2/train/not_a_leaf'), PosixPath('/Users/sneharaut/Desktop/Plant_Disease_Dataset-2/train/Cherry_(including_sour)___Powdery_mildew'), PosixPath('/Users/sneharaut/Desktop/Plant_Disease_Dataset-2/train/Apple___Cedar_apple_rust'), PosixPath('/Users/sneharaut/Desktop/Plant_Disease_Dataset-2/train/Tomato___Bacterial_spot'), PosixPath('/Users/sneharaut/Desktop/Plant_Disease_Dataset-2/train/Grape___healthy'), PosixPath('/Users/sneharaut/Desktop/Plant_Disease_Dataset-2/train/Tomato___Early_blight'), PosixPath('/Users/sneharaut/Desktop/Plant_Disease_Dataset-2/train/Corn_(maize)___Common_rust_'), PosixPath('/Users/sneharaut/Desktop/Plant_Disease_Dataset-2/train/Grape___Esca_(Black_Measles)'), PosixPath('/Users/sneharaut/Desktop/Plant_Disease_Dataset-2/train/Raspberry___healthy'), PosixPath('/Users/sneharaut/Desktop/Plant_Disease_Dataset-2/train/Tomato___healthy'), PosixPath('/Users/sneharaut/Desktop/Plant_Disease_Dataset-2/train/Cherry_(including_sour)___healthy'), PosixPath('/Users/sneharaut/Desktop/Plant_Disease_Dataset-2/train/Tomato___Tomato_Yellow_Leaf_Curl_Virus'), PosixPath('/Users/sneharaut/Desktop/Plant_Disease_Dataset-2/train/Apple___Apple_scab'), PosixPath('/Users/sneharaut/Desktop/Plant_Disease_Dataset-2/train/Corn_(maize)___Northern_Leaf_Blight'), PosixPath('/Users/sneharaut/Desktop/Plant_Disease_Dataset-2/train/Tomato___Spider_mites Two-spotted_spider_mite'), PosixPath('/Users/sneharaut/Desktop/Plant_Disease_Dataset-2/train/Peach___Bacterial_spot'), PosixPath('/Users/sneharaut/Desktop/Plant_Disease_Dataset-2/train/Pepper,_bell___Bacterial_spot'), PosixPath('/Users/sneharaut/Desktop/Plant_Disease_Dataset-2/train/Tomato___Septoria_leaf_spot'), PosixPath('/Users/sneharaut/Desktop/Plant_Disease_Dataset-2/train/Squash___Powdery_mildew'), PosixPath('/Users/sneharaut/Desktop/Plant_Disease_Dataset-2/train/Corn_(maize)___Cercospora_leaf_spot Gray_leaf_spot'), PosixPath('/Users/sneharaut/Desktop/Plant_Disease_Dataset-2/train/Apple___Black_rot'), PosixPath('/Users/sneharaut/Desktop/Plant_Disease_Dataset-2/train/Apple___healthy'), PosixPath('/Users/sneharaut/Desktop/Plant_Disease_Dataset-2/train/Strawberry___Leaf_scorch'), PosixPath('/Users/sneharaut/Desktop/Plant_Disease_Dataset-2/train/Potato___healthy'), PosixPath('/Users/sneharaut/Desktop/Plant_Disease_Dataset-2/train/Soybean___healthy')]\n"
     ]
    }
   ],
   "source": [
    "import pathlib\n",
    "\n",
    "data_dir = pathlib.Path(\"/Users/sneharaut/Desktop/Plant_Disease_Dataset-2/train\")  # Use absolute path if necessary\n",
    "print(\"Data Directory exists:\", data_dir.exists())  # Check if the directory exists\n",
    "print(\"Subdirectories in the Data Directory:\", list(data_dir.glob('*')))  # List subdirectories\n"
   ]
  },
  {
   "cell_type": "code",
   "execution_count": 60,
   "id": "6ee7ab1f-e026-4509-9e49-ad7a5796a46d",
   "metadata": {},
   "outputs": [
    {
     "name": "stdout",
     "output_type": "stream",
     "text": [
      "['Apple___Apple_scab', 'Apple___Black_rot', 'Apple___Cedar_apple_rust', 'Apple___healthy', 'Blueberry___healthy', 'Cherry_(including_sour)___Powdery_mildew', 'Cherry_(including_sour)___healthy', 'Corn_(maize)___Cercospora_leaf_spot Gray_leaf_spot', 'Corn_(maize)___Common_rust_', 'Corn_(maize)___Northern_Leaf_Blight', 'Corn_(maize)___healthy', 'Grape___Black_rot', 'Grape___Esca_(Black_Measles)', 'Grape___Leaf_blight_(Isariopsis_Leaf_Spot)', 'Grape___healthy', 'Orange___Haunglongbing_(Citrus_greening)', 'Peach___Bacterial_spot', 'Peach___healthy', 'Pepper,_bell___Bacterial_spot', 'Pepper,_bell___healthy', 'Potato___Early_blight', 'Potato___Late_blight', 'Potato___healthy', 'Raspberry___healthy', 'Soybean___healthy', 'Squash___Powdery_mildew', 'Strawberry___Leaf_scorch', 'Strawberry___healthy', 'Tomato___Bacterial_spot', 'Tomato___Early_blight', 'Tomato___Late_blight', 'Tomato___Leaf_Mold', 'Tomato___Septoria_leaf_spot', 'Tomato___Spider_mites Two-spotted_spider_mite', 'Tomato___Target_Spot', 'Tomato___Tomato_Yellow_Leaf_Curl_Virus', 'Tomato___Tomato_mosaic_virus', 'Tomato___healthy', 'not_a_leaf']\n"
     ]
    }
   ],
   "source": [
    "# Get the class names sorted by their folder names\n",
    "data_dir = pathlib.Path(\"/Users/sneharaut/Desktop/Plant_Disease_Dataset-2/train\")\n",
    "class_names = sorted([item.name for item in data_dir.glob('*') if item.is_dir()])\n",
    "\n",
    "# Print the sorted class names\n",
    "print(class_names)\n"
   ]
  },
  {
   "cell_type": "code",
   "execution_count": null,
   "id": "c4295824-9ab6-4994-8abf-b3c5f456c946",
   "metadata": {},
   "outputs": [],
   "source": []
  }
 ],
 "metadata": {
  "kernelspec": {
   "display_name": "Python (tensorflow_eni)",
   "language": "python",
   "name": "tensorflow_eni"
  },
  "language_info": {
   "codemirror_mode": {
    "name": "ipython",
    "version": 3
   },
   "file_extension": ".py",
   "mimetype": "text/x-python",
   "name": "python",
   "nbconvert_exporter": "python",
   "pygments_lexer": "ipython3",
   "version": "3.11.6"
  }
 },
 "nbformat": 4,
 "nbformat_minor": 5
}
